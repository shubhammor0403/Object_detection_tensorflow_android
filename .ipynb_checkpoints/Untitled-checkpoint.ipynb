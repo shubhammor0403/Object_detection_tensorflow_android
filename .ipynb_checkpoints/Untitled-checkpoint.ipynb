{
 "cells": [
  {
   "cell_type": "markdown",
   "metadata": {},
   "source": [
    "# Creating a keras model and saving a protobuf file for android import"
   ]
  },
  {
   "cell_type": "code",
   "execution_count": 6,
   "metadata": {},
   "outputs": [],
   "source": [
    "from keras.datasets import cifar10\n",
    "import keras\n",
    "from keras import backend as K\n",
    "import numpy as np\n",
    "from keras.utils import np_utils\n",
    "from freeze_graph import freeze_graph\n",
    "import tensorflow as tf\n",
    "\n",
    "from keras.models import Sequential\n",
    "from keras.layers import Dense, Dropout, Flatten, Reshape\n",
    "from keras.layers.convolutional import Conv2D, MaxPooling2D\n",
    "from keras import optimizers\n",
    "from keras.constraints import maxnorm\n",
    "\n",
    "from matplotlib import pyplot as plt"
   ]
  },
  {
   "cell_type": "code",
   "execution_count": 3,
   "metadata": {},
   "outputs": [],
   "source": [
    "(x_train, y_train), (x_test, y_test) = cifar10.load_data()\n",
    "labels = ['airplane', 'automobile', 'bird', 'cat', 'deer', 'dog', 'frog', 'horse', 'ship', 'truck']\n",
    "\n",
    "def reshape_image(input_array):\n",
    "    output_array = []\n",
    "    for image in input_array:\n",
    "        output_array.append(image.reshape(-1))\n",
    "    return np.asarray(output_array)\n",
    "\n",
    "train_images = x_train.astype('float32') / 255.0\n",
    "test_images = x_test.astype('float32') / 255.0\n",
    "\n",
    "\n",
    "train_images = reshape_image(train_images)\n",
    "test_images = reshape_image(test_images)\n",
    "\n",
    "\n",
    "train_labels = np_utils.to_categorical(y_train)\n",
    "test_labels = np_utils.to_categorical(y_test)"
   ]
  },
  {
   "cell_type": "code",
   "execution_count": 4,
   "metadata": {},
   "outputs": [],
   "source": [
    "K.set_learning_phase(1)\n",
    "\n",
    "#Creating a sequential model\n",
    "model = Sequential()\n",
    "model.add(Reshape((32, 32, 3), input_shape=(3072,)))\n",
    "model.add(Conv2D(32, (3, 3), input_shape=(32, 32, 3), activation='relu', padding='same', kernel_constraint=maxnorm(3)))\n",
    "model.add(MaxPooling2D(pool_size=(2, 2)))\n",
    "model.add(Flatten())\n",
    "model.add(Dense(512, activation='relu', kernel_constraint=maxnorm(3)))\n",
    "model.add(Dropout(0.5))\n",
    "model.add(Dense(10, activation='softmax'))"
   ]
  },
  {
   "cell_type": "code",
   "execution_count": 8,
   "metadata": {},
   "outputs": [
    {
     "name": "stdout",
     "output_type": "stream",
     "text": [
      "<bound method Container.summary of <keras.models.Sequential object at 0x00000293E48C5320>>\n",
      "Epoch 1/20\n",
      "50000/50000 [==============================] - 277s 6ms/step - loss: 1.3980 - acc: 0.5008\n",
      "Epoch 2/20\n",
      "50000/50000 [==============================] - 251s 5ms/step - loss: 1.2140 - acc: 0.5667\n",
      "Epoch 3/20\n",
      "50000/50000 [==============================] - 331s 7ms/step - loss: 1.1227 - acc: 0.6025\n",
      "Epoch 4/20\n",
      "50000/50000 [==============================] - 257s 5ms/step - loss: 1.0616 - acc: 0.6239\n",
      "Epoch 5/20\n",
      "50000/50000 [==============================] - 307s 6ms/step - loss: 1.0061 - acc: 0.6438\n",
      "Epoch 6/20\n",
      "50000/50000 [==============================] - 256s 5ms/step - loss: 0.9575 - acc: 0.6647\n",
      "Epoch 7/20\n",
      "50000/50000 [==============================] - 248s 5ms/step - loss: 0.9122 - acc: 0.6774\n",
      "Epoch 8/20\n",
      "50000/50000 [==============================] - 223s 4ms/step - loss: 0.8772 - acc: 0.6908\n",
      "Epoch 9/20\n",
      "50000/50000 [==============================] - 224s 4ms/step - loss: 0.8343 - acc: 0.7073\n",
      "Epoch 10/20\n",
      "50000/50000 [==============================] - 225s 4ms/step - loss: 0.8041 - acc: 0.7157\n",
      "Epoch 11/20\n",
      "50000/50000 [==============================] - 223s 4ms/step - loss: 0.7728 - acc: 0.7277\n",
      "Epoch 12/20\n",
      "50000/50000 [==============================] - 221s 4ms/step - loss: 0.7427 - acc: 0.7373\n",
      "Epoch 13/20\n",
      "50000/50000 [==============================] - 221s 4ms/step - loss: 0.7161 - acc: 0.7497\n",
      "Epoch 14/20\n",
      "50000/50000 [==============================] - 221s 4ms/step - loss: 0.6836 - acc: 0.7595\n",
      "Epoch 15/20\n",
      "50000/50000 [==============================] - 221s 4ms/step - loss: 0.6603 - acc: 0.7666\n",
      "Epoch 16/20\n",
      "50000/50000 [==============================] - 223s 4ms/step - loss: 0.6392 - acc: 0.7759\n",
      "Epoch 17/20\n",
      "50000/50000 [==============================] - 215s 4ms/step - loss: 0.6150 - acc: 0.7849\n",
      "Epoch 18/20\n",
      "50000/50000 [==============================] - 192s 4ms/step - loss: 0.5856 - acc: 0.7938\n",
      "Epoch 19/20\n",
      "50000/50000 [==============================] - 191s 4ms/step - loss: 0.5653 - acc: 0.8016\n",
      "Epoch 20/20\n",
      "50000/50000 [==============================] - 190s 4ms/step - loss: 0.5520 - acc: 0.8059\n"
     ]
    },
    {
     "data": {
      "text/plain": [
       "<keras.callbacks.History at 0x29389774e48>"
      ]
     },
     "execution_count": 8,
     "metadata": {},
     "output_type": "execute_result"
    }
   ],
   "source": [
    "model.compile(loss='categorical_crossentropy', optimizer=optimizers.Adamax(lr=0.002, beta_1=0.9, beta_2=0.999, epsilon=None, decay=0.0), metrics=['accuracy'])\n",
    "print(model.summary)\n",
    "model.fit(train_images, train_labels, epochs=20, batch_size=32)"
   ]
  },
  {
   "cell_type": "code",
   "execution_count": 9,
   "metadata": {},
   "outputs": [
    {
     "name": "stdout",
     "output_type": "stream",
     "text": [
      "INFO:tensorflow:Froze 50 variables.\n",
      "Converted 50 variables to const ops.\n",
      "reshape_1_input\n",
      "dense_2/Softmax\n"
     ]
    }
   ],
   "source": [
    "#creating a protobuf file for android import\n",
    "frozen_graph = freeze_graph(K.get_session(), output_names=[model.output.op.name])\n",
    "tf.train.write_graph(frozen_graph, '.', 'cifarprotobuf.pb', as_text=False)\n",
    "print(model.input.op.name)\n",
    "print(model.output.op.name)"
   ]
  },
  {
   "cell_type": "code",
   "execution_count": null,
   "metadata": {},
   "outputs": [],
   "source": []
  }
 ],
 "metadata": {
  "kernelspec": {
   "display_name": "Python 3",
   "language": "python",
   "name": "python3"
  },
  "language_info": {
   "codemirror_mode": {
    "name": "ipython",
    "version": 3
   },
   "file_extension": ".py",
   "mimetype": "text/x-python",
   "name": "python",
   "nbconvert_exporter": "python",
   "pygments_lexer": "ipython3",
   "version": "3.6.4"
  }
 },
 "nbformat": 4,
 "nbformat_minor": 2
}
